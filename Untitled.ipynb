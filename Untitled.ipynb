{
 "cells": [
  {
   "cell_type": "code",
   "execution_count": null,
   "id": "ceb91b31-b3b3-4c37-9b83-76b6a34ba630",
   "metadata": {},
   "outputs": [],
   "source": [
    "print(\"Likhil\")"
   ]
  },
  {
   "cell_type": "code",
   "execution_count": 2,
   "id": "5000ad4c-d8fd-45e3-9d0f-0b451ed9e4d0",
   "metadata": {},
   "outputs": [
    {
     "data": {
      "text/plain": [
       "3"
      ]
     },
     "execution_count": 2,
     "metadata": {},
     "output_type": "execute_result"
    }
   ],
   "source": [
    "1+2"
   ]
  },
  {
   "cell_type": "code",
   "execution_count": 3,
   "id": "a29519cf-898a-4a77-81d6-4371281a35dc",
   "metadata": {},
   "outputs": [
    {
     "data": {
      "text/plain": [
       "'likhil'"
      ]
     },
     "execution_count": 3,
     "metadata": {},
     "output_type": "execute_result"
    }
   ],
   "source": [
    "\"likhil\""
   ]
  },
  {
   "cell_type": "code",
   "execution_count": 4,
   "id": "891841dd-94f0-4e00-bbb5-a4f180a4213a",
   "metadata": {},
   "outputs": [
    {
     "data": {
      "text/plain": [
       "'C:\\\\Users\\\\likhi'"
      ]
     },
     "execution_count": 4,
     "metadata": {},
     "output_type": "execute_result"
    }
   ],
   "source": [
    "pwd"
   ]
  },
  {
   "cell_type": "code",
   "execution_count": null,
   "id": "e39d4462-1192-43ab-a264-6ec7ab44c5f5",
   "metadata": {},
   "outputs": [],
   "source": [
    " "
   ]
  }
 ],
 "metadata": {
  "kernelspec": {
   "display_name": "Python 3 (ipykernel)",
   "language": "python",
   "name": "python3"
  },
  "language_info": {
   "codemirror_mode": {
    "name": "ipython",
    "version": 3
   },
   "file_extension": ".py",
   "mimetype": "text/x-python",
   "name": "python",
   "nbconvert_exporter": "python",
   "pygments_lexer": "ipython3",
   "version": "3.13.1"
  }
 },
 "nbformat": 4,
 "nbformat_minor": 5
}
